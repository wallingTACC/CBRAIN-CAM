{
 "cells": [
  {
   "cell_type": "markdown",
   "metadata": {},
   "source": [
    "# Check sherpa's version and attributes"
   ]
  },
  {
   "cell_type": "code",
   "execution_count": 11,
   "metadata": {},
   "outputs": [],
   "source": [
    "import sherpa"
   ]
  },
  {
   "cell_type": "code",
   "execution_count": 28,
   "metadata": {},
   "outputs": [
    {
     "name": "stdout",
     "output_type": "stream",
     "text": [
      "/oasis/scratch/comet/tbeucler/temp_project/sherpa/sherpa/__init__.py\n"
     ]
    }
   ],
   "source": [
    "import os\n",
    "path = os.path.abspath(sherpa.__file__)\n",
    "print(path)"
   ]
  },
  {
   "cell_type": "code",
   "execution_count": 4,
   "metadata": {},
   "outputs": [
    {
     "data": {
      "text/plain": [
       "'1.0.6'"
      ]
     },
     "execution_count": 4,
     "metadata": {},
     "output_type": "execute_result"
    }
   ],
   "source": [
    "sherpa.__version__"
   ]
  },
  {
   "cell_type": "code",
   "execution_count": 9,
   "metadata": {},
   "outputs": [
    {
     "data": {
      "text/plain": [
       "['AlgorithmState',\n",
       " 'Choice',\n",
       " 'Client',\n",
       " 'Continuous',\n",
       " 'Discrete',\n",
       " 'Ordinal',\n",
       " 'Parameter',\n",
       " 'Study',\n",
       " 'Trial',\n",
       " 'TrialStatus',\n",
       " '__builtins__',\n",
       " '__cached__',\n",
       " '__doc__',\n",
       " '__file__',\n",
       " '__loader__',\n",
       " '__name__',\n",
       " '__package__',\n",
       " '__path__',\n",
       " '__spec__',\n",
       " '__version__',\n",
       " 'absolute_import',\n",
       " 'algorithms',\n",
       " 'collections',\n",
       " 'contextlib',\n",
       " 'core',\n",
       " 'database',\n",
       " 'datetime',\n",
       " 'logger',\n",
       " 'logging',\n",
       " 'multiprocessing',\n",
       " 'numpy',\n",
       " 'optimize',\n",
       " 'os',\n",
       " 'pandas',\n",
       " 'pickle',\n",
       " 'rng',\n",
       " 'run_dashboard',\n",
       " 'schedulers',\n",
       " 'shlex',\n",
       " 'socket',\n",
       " 'sys',\n",
       " 'time',\n",
       " 'warnings']"
      ]
     },
     "execution_count": 9,
     "metadata": {},
     "output_type": "execute_result"
    }
   ],
   "source": [
    "dir(sherpa)"
   ]
  },
  {
   "cell_type": "code",
   "execution_count": 10,
   "metadata": {},
   "outputs": [],
   "source": [
    "parameters = [sherpa.Continuous(name='lr', range=[0.005, 0.1], scale='log'),\n",
    "              sherpa.Continuous(name='dropout', range=[0., 0.4]),\n",
    "              sherpa.Ordinal(name='batch_size', range=[16, 32, 64]),\n",
    "              sherpa.Discrete(name='num_hidden_units', range=[100, 300]),\n",
    "              sherpa.Choice(name='activation', range=['relu', 'elu', 'prelu'])]"
   ]
  },
  {
   "cell_type": "code",
   "execution_count": 25,
   "metadata": {},
   "outputs": [
    {
     "data": {
      "text/plain": [
       "[<sherpa.core.Continuous at 0x2ae5ff9038d0>,\n",
       " <sherpa.core.Continuous at 0x2ae5ff903908>,\n",
       " <sherpa.core.Ordinal at 0x2ae5ff903940>,\n",
       " <sherpa.core.Discrete at 0x2ae5ff903978>,\n",
       " <sherpa.core.Choice at 0x2ae5ff9039b0>]"
      ]
     },
     "execution_count": 25,
     "metadata": {},
     "output_type": "execute_result"
    }
   ],
   "source": [
    "parameters"
   ]
  }
 ],
 "metadata": {
  "kernelspec": {
   "display_name": "Python 3",
   "language": "python",
   "name": "python3"
  },
  "language_info": {
   "codemirror_mode": {
    "name": "ipython",
    "version": 3
   },
   "file_extension": ".py",
   "mimetype": "text/x-python",
   "name": "python",
   "nbconvert_exporter": "python",
   "pygments_lexer": "ipython3",
   "version": "3.6.10"
  },
  "toc": {
   "base_numbering": 1,
   "nav_menu": {},
   "number_sections": true,
   "sideBar": true,
   "skip_h1_title": false,
   "title_cell": "Table of Contents",
   "title_sidebar": "Contents",
   "toc_cell": false,
   "toc_position": {},
   "toc_section_display": true,
   "toc_window_display": false
  }
 },
 "nbformat": 4,
 "nbformat_minor": 4
}
