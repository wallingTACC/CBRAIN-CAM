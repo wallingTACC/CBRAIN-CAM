{
 "cells": [
  {
   "cell_type": "markdown",
   "metadata": {},
   "source": [
    "# Imports"
   ]
  },
  {
   "cell_type": "code",
   "execution_count": 1,
   "metadata": {},
   "outputs": [
    {
     "name": "stdout",
     "output_type": "stream",
     "text": [
      "/data11/home/tbeucler/CBRAIN-CAM/notebooks/tbeucler_devlog\n"
     ]
    }
   ],
   "source": [
    "from cbrain.imports import *\n",
    "from cbrain.data_generator import *\n",
    "from cbrain.cam_constants import *\n",
    "from cbrain.losses import *\n",
    "from cbrain.utils import limit_mem\n",
    "from cbrain.layers import *\n",
    "import tensorflow as tf\n",
    "import tensorflow.math as tfm\n",
    "from tensorflow.keras.layers import *\n",
    "from tensorflow.keras.models import *\n",
    "import xarray as xr\n",
    "import numpy as np\n",
    "from cbrain.model_diagnostics import ModelDiagnostics\n",
    "import matplotlib as mpl\n",
    "import matplotlib.pyplot as plt\n",
    "import matplotlib.image as imag\n",
    "\n",
    "# Otherwise tensorflow will use ALL your GPU RAM for no reason\n",
    "limit_mem()"
   ]
  },
  {
   "cell_type": "markdown",
   "metadata": {},
   "source": [
    "# Plot properties"
   ]
  },
  {
   "cell_type": "code",
   "execution_count": 2,
   "metadata": {},
   "outputs": [],
   "source": [
    "TRAINDIR = '/local/Tom.Beucler/SPCAM_PHYS/'\n",
    "alpha_array = [0,0.01,0.25,0.5,0.75,0.99,1] # Loop over weight given to MSE and conservation constraints\n",
    "config_fn = '/filer/z-sv-pool12c/t/Tom.Beucler/SPCAM/CBRAIN-CAM/pp_config/8col_rad_tbeucler_local_PostProc.yml'\n",
    "data_fn = '/local/Tom.Beucler/SPCAM_PHYS/8col009_01_valid.nc'\n",
    "dict_lay = {'SurRadLayer':SurRadLayer,'MassConsLayer':MassConsLayer,'EntConsLayer':EntConsLayer,\\\n",
    "           'weak_loss_0':mse,'weak_loss_1':mse}\n",
    "fz = 15\n",
    "lw = 4\n",
    "siz = 100\n",
    "S0 = 320 # Representative mean solar insolation for normalization purposes\n",
    "S0max = 1410.6442 # Max solar insolation for normalization purposes\n",
    "SN = S0/100 # Representative target = mean insolation / 4\n",
    "XNNA = 1.25 # Abscissa where architecture-constrained network will be placed\n",
    "XTEXT = 0.25 # Text placement\n",
    "YMIN = -1 # Representative value for conserving network\n",
    "YTEXT = 0.3 # Text placement"
   ]
  },
  {
   "cell_type": "code",
   "execution_count": 3,
   "metadata": {},
   "outputs": [],
   "source": [
    "plt.rc('text', usetex=False)\n",
    "mpl.rcParams['mathtext.fontset'] = 'stix'\n",
    "mpl.rcParams['font.family'] = 'STIXGeneral'\n",
    "#mpl.rcParams[\"font.serif\"] = \"STIX\"\n",
    "plt.rc('font', family='serif', size=fz)\n",
    "mpl.rcParams['lines.linewidth'] = lw\n",
    "plt.close('all')"
   ]
  },
  {
   "cell_type": "markdown",
   "metadata": {},
   "source": [
    "# Figure 2"
   ]
  },
  {
   "cell_type": "markdown",
   "metadata": {},
   "source": [
    "## Load data"
   ]
  },
  {
   "cell_type": "code",
   "execution_count": 23,
   "metadata": {},
   "outputs": [],
   "source": [
    "TRAINDIR = '/local/Tom.Beucler/SPCAM_PHYS/'\n",
    "alpha_array = [0,0.01,0.25,0.5,0.75,0.99,1] # Loop over weight given to MSE and conservation constraints\n",
    "NNarray = ['MLRL0','JNNL','JNNL0.01','JNNC']\n",
    "config_fn = '/filer/z-sv-pool12c/t/Tom.Beucler/SPCAM/CBRAIN-CAM/pp_config/8col_rad_tbeucler_local_PostProc.yml'\n",
    "data_fn = '/local/Tom.Beucler/SPCAM_PHYS/8col009_01_valid.nc'\n",
    "DATASET = ['train','valid','test']\n",
    "dict_lay = {'SurRadLayer':SurRadLayer,'MassConsLayer':MassConsLayer,'EntConsLayer':EntConsLayer,\\\n",
    "           'weak_loss_0':mse,'weak_loss_1':mse}\n",
    "fz = 15\n",
    "lw = 4\n",
    "siz = 100\n",
    "S0 = 320 # Representative mean solar insolation for normalization purposes\n",
    "S0max = 1410.6442 # Max solar insolation for normalization purposes\n",
    "SN = S0/100 # Representative target = mean insolation / 4\n",
    "XNNA = 1.25 # Abscissa where architecture-constrained network will be placed\n",
    "XTEXT = 0.2 # Text placement\n",
    "YMIN = -1 # Representative value for conserving network\n",
    "YTEXT = 0.6 # Text placement"
   ]
  },
  {
   "cell_type": "code",
   "execution_count": 24,
   "metadata": {},
   "outputs": [],
   "source": [
    "# Save reduced data to make figure\n",
    "pathHOME = '/export/home/tbeucler/'\n",
    "#pathPKL = '/home/t/Tom.Beucler/SPCAM/CBRAIN-CAM/notebooks/tbeucler_devlog/PKL_DATA/'\n",
    "pathPKL = '/export/home/tbeucler/CBRAIN-CAM/notebooks/tbeucler_devlog/PKL_DATA/'"
   ]
  },
  {
   "cell_type": "code",
   "execution_count": 25,
   "metadata": {},
   "outputs": [],
   "source": [
    "# Load LCnet diagnostics\n",
    "hf = open(pathPKL+'2020_03_11_across_alpha.pkl','rb')\n",
    "S = pickle.load(hf)\n",
    "hf.close()"
   ]
  },
  {
   "cell_type": "code",
   "execution_count": 26,
   "metadata": {},
   "outputs": [],
   "source": [
    "# Load comparison between UCnet, linear, etc.\n",
    "hf = open(pathPKL+'2020_03_06_comparison.pkl','rb')\n",
    "S2 = pickle.load(hf)\n",
    "hf.close()"
   ]
  },
  {
   "cell_type": "code",
   "execution_count": 27,
   "metadata": {},
   "outputs": [],
   "source": [
    "MSEplot = {}\n",
    "PENplot = {}\n",
    "\n",
    "for j,datas in enumerate(DATASET):\n",
    "    #print('datas=',datas)\n",
    "    MSEplot[datas] = {}\n",
    "    PENplot[datas] = {}\n",
    "    \n",
    "    for alpha in alpha_array:\n",
    "        #print('alpha = ',str(alpha))\n",
    "        MSEplot[datas][alpha] = np.log10(S['MSEt'][datas][alpha][0])\n",
    "        PENplot[datas][alpha] = np.log10(S['RESt'][datas][alpha][0])\n",
    "        \n",
    "    for NNs in NNarray:\n",
    "        MSEplot[datas][NNs] = np.log10(S2['MSEt'][datas][NNs][0])\n",
    "        PENplot[datas][NNs] = np.log10(S2['RESt'][datas][NNs][0])"
   ]
  },
  {
   "cell_type": "code",
   "execution_count": 28,
   "metadata": {},
   "outputs": [],
   "source": [
    "datas = 'valid'"
   ]
  },
  {
   "cell_type": "code",
   "execution_count": 47,
   "metadata": {},
   "outputs": [
    {
     "data": {
      "image/png": "[encoded data removed]",
      "text/plain": [
       "<Figure size 480x240 with 1 Axes>"
      ]
     },
     "metadata": {},
     "output_type": "display_data"
    }
   ],
   "source": [
    "f = plt.figure(num=None, figsize=(6,3), dpi=80, facecolor='w', edgecolor='k')\n",
    "plt.gcf().subplots_adjust(bottom=0.15) # Make room for xlabels\n",
    "\n",
    "### Subplot 1 ###\n",
    "\n",
    "ax = f.add_subplot(1,1,1)\n",
    "MSEs = {}; PENs = {};\n",
    "\n",
    "plt.axvline(x=0,color='lightgray',linewidth=lw/2,zorder=0)\n",
    "plt.axvline(x=1,color='lightgray',linewidth=lw/2,zorder=0)\n",
    "\n",
    "STR = 'MLRL0'\n",
    "Hlin1 = plt.axhline(y=MSEplot[datas][STR],c='k',linestyle='--',zorder=1)\n",
    "Hlin2 = plt.axhline(y=PENplot[datas][STR],c='r',linestyle='--',zorder=1)\n",
    "\n",
    "for alpha in alpha_array:\n",
    "    STR = alpha\n",
    "    MSEs[str(alpha)] = plt.scatter(alpha,MSEplot[datas][STR],c='k',s=siz,marker='+',linewidth=lw/2)\n",
    "    PENs[str(alpha)] = plt.scatter(alpha,PENplot[datas][STR],c='r',s=siz,marker='+',linewidth=lw/2)\n",
    "\n",
    "STR = 'JNNC'\n",
    "MSEs['NNA'] = plt.scatter(XNNA,MSEplot[datas][STR],c='k',s=siz,marker='*')\n",
    "PENs['NNA'] = plt.scatter(XNNA,YMIN+0.2,c='r',s=3*siz,marker=\"$\\downarrow$\")\n",
    "MSEt = plt.text(XNNA-XTEXT,MSEplot[datas][STR]-YTEXT/2,s='$\\mathrm{ACnet}$',color='k')\n",
    "PENt = plt.text(XNNA-2*XTEXT/3,YMIN+0.2+YTEXT/2,s='$\\mathrm{ACnet}$',color='r')\n",
    "PENu = plt.text(0.025,2.75,s='$\\mathrm{UCnet}$',color='r')\n",
    "    \n",
    "plt.xlim((-0.05,1.3))\n",
    "plt.ylim((YMIN,3.5))\n",
    "\n",
    "plt.xlabel(r'$\\mathrm{Penalty\\ weight\\ }\\alpha$')\n",
    "plt.ylabel(r'$\\mathrm{Loss}$')\n",
    "\n",
    "plt.legend((MSEs['0'],PENs['0'],Hlin1),\\\n",
    "           ('$\\mathrm{MSE}$','$\\mathrm{Penalty}$','Linear'),\n",
    "          loc='lower left')\n",
    "\n",
    "# Add LCnet legend\n",
    "plt.arrow(0.6, -0.925, -0.55, 0, color='lightgray', linewidth=lw/2,head_width=0.15,head_length=0.05)\n",
    "plt.arrow(0.8, -0.925, 0.15, 0, color='lightgray', linewidth=lw/2,head_width=0.15,head_length=0.05)\n",
    "PENu = plt.text(0.625,-0.925,s='$\\mathrm{LCnet}$',color='gray')\n",
    "\n",
    "plt.draw()\n",
    "# Change y labels to 10^n\n",
    "labels = [item.get_text() for item in ax.get_yticklabels()]\n",
    "for ilab,lab in enumerate(labels):\n",
    "    #print(ilab,lab)\n",
    "    labels[ilab]='$10^{'+lab+'}$';\n",
    "ax.set_yticklabels(labels);\n",
    "\n",
    "\n",
    "# Save figure\n",
    "plt.savefig(pathHOME+'IGARSS_Fig2_'+datas+'.pdf',format='pdf')"
   ]
  },
  {
   "cell_type": "code",
   "execution_count": null,
   "metadata": {},
   "outputs": [],
   "source": []
  }
 ],
 "metadata": {
  "kernelspec": {
   "display_name": "Python 3",
   "language": "python",
   "name": "python3"
  },
  "language_info": {
   "codemirror_mode": {
    "name": "ipython",
    "version": 3
   },
   "file_extension": ".py",
   "mimetype": "text/x-python",
   "name": "python",
   "nbconvert_exporter": "python",
   "pygments_lexer": "ipython3",
   "version": "3.7.3"
  },
  "toc": {
   "base_numbering": 1,
   "nav_menu": {},
   "number_sections": true,
   "sideBar": true,
   "skip_h1_title": false,
   "title_cell": "Table of Contents",
   "title_sidebar": "Contents",
   "toc_cell": false,
   "toc_position": {},
   "toc_section_display": true,
   "toc_window_display": true
  }
 },
 "nbformat": 4,
 "nbformat_minor": 2
}
